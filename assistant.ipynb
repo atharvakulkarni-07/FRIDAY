{
 "cells": [
  {
   "cell_type": "markdown",
   "metadata": {},
   "source": [
    "<h1>Project: Personal Assistant F.R.I.D.A.Y</h1>"
   ]
  },
  {
   "cell_type": "markdown",
   "metadata": {},
   "source": [
    "<h3>Loading necessary libraries</h3>"
   ]
  },
  {
   "cell_type": "code",
   "execution_count": null,
   "metadata": {},
   "outputs": [],
   "source": [
    "import speech_recognition as sr \n",
    "import os \n",
    "import webbrowser\n",
    "import datetime\n",
    "import openai\n",
    "import subprocess\n",
    "import requests\n"
   ]
  },
  {
   "cell_type": "markdown",
   "metadata": {},
   "source": [
    "<h3>OpenAI API key</h3>"
   ]
  },
  {
   "cell_type": "code",
   "execution_count": null,
   "metadata": {},
   "outputs": [],
   "source": [
    "openai.api_key = 'put-your-api-key-here'"
   ]
  },
  {
   "cell_type": "markdown",
   "metadata": {},
   "source": [
    "<h3>Command Function to Interpret the Query</h3>"
   ]
  },
  {
   "cell_type": "code",
   "execution_count": null,
   "metadata": {},
   "outputs": [],
   "source": [
    "def command():\n",
    "    r = sr.Recognizer()\n",
    "    with sr.Microphone() as source:\n",
    "        r.pause_threshold = 1\n",
    "        print(\"Listening... \")\n",
    "        audio = r.listen(source)\n",
    "        try:\n",
    "            query = r.recognize_google(audio, language = \"en-in\")\n",
    "            print(f\"User said: {query}\")\n",
    "            return query \n",
    "        except sr.UnknownValueError:\n",
    "            say(\"Sorry, I did not understand that.\")\n",
    "            return \"\"\n",
    "        except sr.RequestError:\n",
    "            say(\"Sorry, my speech service is down.\")\n",
    "            return \"\"\n",
    "        except Exception as e:\n",
    "            say(\"Sorry, there was an error.\")\n",
    "            return \"\""
   ]
  },
  {
   "cell_type": "markdown",
   "metadata": {},
   "source": [
    "<h3>'Say' function to print the 'query' asked by the user</h3>"
   ]
  },
  {
   "cell_type": "code",
   "execution_count": null,
   "metadata": {},
   "outputs": [],
   "source": [
    "def say(text):\n",
    "    print(f\"DEBUG: Saying: {text}\")\n",
    "    os.system(f\"say '{text}'\")"
   ]
  },
  {
   "cell_type": "markdown",
   "metadata": {},
   "source": [
    "<h3>'Add task' function to store the tasks</h3>"
   ]
  },
  {
   "cell_type": "code",
   "execution_count": null,
   "metadata": {},
   "outputs": [],
   "source": [
    "tasks = []\n",
    "\n",
    "def add_task(task):\n",
    "    tasks.append(task)\n",
    "    say(f\"Task '{task}' added.\")\n",
    "\n",
    "def view_tasks():\n",
    "    if not tasks:\n",
    "        say(\"No tasks available.\")\n",
    "    else:\n",
    "        say(\"Here are your tasks:\")\n",
    "        for i, task in enumerate(tasks, start=1):\n",
    "            say(f\"Task {i}: {task}\")\n",
    "\n",
    "def delete_task(command):\n",
    "    try:\n",
    "        # Extract task number from the command\n",
    "        task_number = int(command.split()[-1])\n",
    "        if 1 <= task_number <= len(tasks):\n",
    "            removed_task = tasks.pop(task_number - 1)\n",
    "            say(f\"Task '{removed_task}' deleted.\")\n",
    "        else:\n",
    "            say(\"Invalid task number.\")\n",
    "    except ValueError:\n",
    "        say(\"Please provide a valid task number.\")\n",
    "    except IndexError:\n",
    "        say(\"Please provide the task number.\")"
   ]
  },
  {
   "cell_type": "markdown",
   "metadata": {},
   "source": [
    "<h3>'get_weather' function to obtain the weather information of any location across the globe</h3>"
   ]
  },
  {
   "cell_type": "code",
   "execution_count": null,
   "metadata": {},
   "outputs": [],
   "source": [
    "def get_weather(location):\n",
    "    api_key = \"put-your-api-key-here\"\n",
    "    weather_url = f\"http://api.openweathermap.org/data/2.5/weather?q={location}&appid={api_key}\"\n",
    "    response = requests.get(weather_url)\n",
    "    weather_data = response.json()\n",
    "    if weather_data[\"cod\"] == 200:\n",
    "        main = weather_data[\"main\"]\n",
    "        wind = weather_data[\"wind\"]\n",
    "        weather_description = weather_data[\"weather\"][0][\"description\"]\n",
    "        temperature = main[\"temp\"]\n",
    "        say(f\"The weather in {location} is {weather_description} with a temperature of {temperature - 273.15:.2f} degrees Celsius.\")\n",
    "    else:\n",
    "        say(f\"Sorry, I couldn't fetch the weather information for {location}.\")"
   ]
  },
  {
   "cell_type": "markdown",
   "metadata": {},
   "source": [
    "<h3>'get_news' function to get the Top 5 headlines across the globe</h3>"
   ]
  },
  {
   "cell_type": "code",
   "execution_count": null,
   "metadata": {},
   "outputs": [],
   "source": [
    "def get_news():\n",
    "    api_key = \"put-your-api-key-here\"\n",
    "    news_url = f\"http://newsapi.org/v2/top-headlines?country=us&apiKey={api_key}\"\n",
    "    response = requests.get(news_url)\n",
    "    news_data = response.json()\n",
    "    if news_data[\"status\"] == \"ok\":\n",
    "        top_headlines = news_data[\"articles\"][:5]  # Get top 5 headlines\n",
    "        for i, article in enumerate(top_headlines):\n",
    "            say(f\"Headline {i+1}: {article['title']}\")\n",
    "    else:\n",
    "        say(\"Sorry, I couldn't fetch the news.\")"
   ]
  },
  {
   "cell_type": "markdown",
   "metadata": {},
   "source": [
    "<h3>Site closing function</h3>"
   ]
  },
  {
   "cell_type": "code",
   "execution_count": null,
   "metadata": {},
   "outputs": [],
   "source": [
    "def close_site(site_name):  # to do, this is still not functioning properly\n",
    "    print(f\"DEBUG: Site name: {site_name}\")\n",
    "    if \"chrome\" in site_name:\n",
    "        browser = \"Google Chrome\"\n",
    "    elif \"firefox\" in site_name:\n",
    "        browser = \"Firefox\"\n",
    "    elif \"safari\" in site_name:\n",
    "        browser = \"Safari\"\n",
    "    else:\n",
    "        say(\"Site closing not supported for this browser.\")\n",
    "        return\n",
    "\n",
    "    applescript = f'tell application \"{browser}\" to close (every tab of window 1)'\n",
    "    subprocess.run(['osascript', '-e', applescript], shell=True)\n",
    "    say(f\"{browser} tabs closed.\")"
   ]
  },
  {
   "cell_type": "code",
   "execution_count": null,
   "metadata": {},
   "outputs": [],
   "source": [
    "def get_openai_response(prompt):\n",
    "    try:\n",
    "        response = openai.Completion.create(\n",
    "            engine='text-davinci',  # Use the desired engine here\n",
    "            prompt=prompt,\n",
    "            max_tokens=150\n",
    "        )\n",
    "        return response.choices[0].text.strip()\n",
    "    except Exception as e:\n",
    "        print(f\"Error with OpenAI API: {e}\")\n",
    "        return \"Sorry, I couldn't process that.\""
   ]
  },
  {
   "cell_type": "markdown",
   "metadata": {},
   "source": [
    "<h3>Greeting Message</h3>"
   ]
  },
  {
   "cell_type": "code",
   "execution_count": null,
   "metadata": {},
   "outputs": [],
   "source": [
    "say(\"Hello, I am Friday! Your personal assistant!\")"
   ]
  },
  {
   "cell_type": "markdown",
   "metadata": {},
   "source": [
    "<h3>Actual Functional Loop</h3>"
   ]
  },
  {
   "cell_type": "code",
   "execution_count": null,
   "metadata": {},
   "outputs": [],
   "source": [
    "while True:\n",
    "    query = command().lower()\n",
    "    if not query:\n",
    "        continue  # Skip the rest of the loop if there was an error or unrecognized speech\n",
    "\n",
    "    if \"terminate yourself\" in query:\n",
    "        say(\"Goodbye sir, Please press the run button to call me again, Have a nice day!\")\n",
    "        break\n",
    "\n",
    "\n",
    "    if \"activate advanced version\" in query:\n",
    "        say(\"Advanced version activated. How can I assist you further?\")\n",
    "        while True:\n",
    "            query = command().lower()\n",
    "            if \"stop\" in query:\n",
    "                say(\"Getting out of open.A.I.\")\n",
    "                break\n",
    "            response = get_openai_response(query)\n",
    "            say(response)\n",
    "        continue  # After stopping advanced mode, continue to the main loop\n",
    "\n",
    "    if \"weather update\" in query:\n",
    "        say(\"Please specify the location.\")\n",
    "        location_query = command().lower()\n",
    "        if location_query:\n",
    "            get_weather(location_query)\n",
    "        else:\n",
    "            say(\"Sorry, I didn't get the location.\")\n",
    "    \n",
    "    if \"news update\" in query:\n",
    "        get_news()\n",
    "\n",
    "    if \"add a task\" in query:\n",
    "        say(\"What task would you like to add?\")\n",
    "        task = command().lower()\n",
    "        if task:\n",
    "            add_task(task)\n",
    "        else:\n",
    "            say(\"Sorry, I didn't get the task.\")\n",
    "\n",
    "    if \"view tasks\" in query:\n",
    "        view_tasks()\n",
    "\n",
    "    if \"delete a task\" in query:\n",
    "        say(\"Which task number would you like to delete?\")\n",
    "        task_number = command().lower()\n",
    "        if task_number:\n",
    "            delete_task(task_number)\n",
    "        else:\n",
    "            say(\"Sorry, I didn't get the task number.\")\n",
    "\n",
    "\n",
    "\n",
    "\n",
    "#todo: Add more sites\n",
    "    sites = [[\"google\", \"https://www.google.com\"], [\"youtube\", \"https://www.youtube.com\"], \n",
    "             [\"wikipedia\", \"https://www.wikipedia.com\"], [\"amazon\", \"https://www.amazon.com\"], [\"instagram\", \"https://www.instagram.com\"], [\"facebook\", \"https://www.facebook.com\"], [\"leetcode\", \"https://www.leetcode.com\"], [\"coursera\", \"https://www.coursera.com\"], [\"udemy\", \"https://www.udemy.com\"], [\"codechef\", \"https://www.codechef.com\"],[\"codeforces\", \"https://www.codeforces.com\"], [\"linkedin\", \"https://www.linkedin.com\"]] ## opens via default browser.\n",
    "    \n",
    "    for site in sites:  # Loop through the list of sites\n",
    "        if f\"open {site[0]}\" in query:\n",
    "            say(f\"Opening {site[0]}, sir\")   \n",
    "            webbrowser.open(site[1])\n",
    "            break\n",
    "        elif f\"close {site[0]}\" in query:\n",
    "            close_site((site[0]).lower())\n",
    "            break\n",
    "\n",
    "    if \"open music\" in query:\n",
    "        musicpath = \"/Users/atharvakulkarni/Downloads/track.mp3\"\n",
    "        os.system(f\"open {musicpath}\")\n",
    "    \n",
    "    if \"the time\" in query:\n",
    "        now = datetime.datetime.now()\n",
    "        say(f\"Sir, the time is {now.hour} hours {now.minute} minutes and {now.second} seconds\")\n",
    "\n",
    "    if \"open notion\" in query:\n",
    "        notion = \"/Applications/Notion.app\"\n",
    "        os.system(f\"open {notion}\")\n",
    "\n",
    "    if \"open facetime\".lower() in query.lower(): \n",
    "        facetime = \"/Application/Facetime.app\"\n",
    "        os.system(f\"open {facetime}\")\n",
    "\n",
    "    if \"open firefox\" in query:\n",
    "        firefox = \"/Applications/Firefox.app\"\n",
    "        os.system(f\"open {firefox}\")\n",
    "\n",
    "    if \"open app store\" in query:\n",
    "        app_store = \"/Applications/App Store.app\"\n",
    "        os.system(f\"open {app_store}\") ##problem in opening this as of now   \n",
    "\n",
    "    if \"open spotify\" in query:\n",
    "        spotify = \"/Applications/Spotify.app\"\n",
    "        os.system(f\"open {spotify}\")\n",
    "\n",
    "    if \"open whatsapp\" in query:\n",
    "        whatsapp = \"/Applications/WhatsApp.app\"\n",
    "        os.system(f\"open {whatsapp}\")\n",
    "\n",
    "    if \"open terminal\" in query:\n",
    "        terminal = \"/System/Applications/Utilities/Terminal.app\"\n",
    "        os.system(f\"open {terminal}\")\n",
    "\n",
    "    if \"open safari\" in query:\n",
    "        safari = \"/Applications/Safari.app\"\n",
    "        os.system(f\"open {safari}\")  \n",
    "\n",
    "    if \"close notion\" in query:\n",
    "        os.system(\"pkill Notion\")\n",
    "        say(\"Notion closed\")\n",
    "\n",
    "    if \"close facetime\" in query:\n",
    "        os.system(\"pkill FaceTime\")\n",
    "        say(\"FaceTime closed\")\n",
    "\n",
    "    if \"close firefox\" in query:\n",
    "        os.system(\"pkill Firefox\")\n",
    "        say(\"Firefox closed\")\n",
    "\n",
    "    if \"close app store\" in query:\n",
    "        os.system(\"pkill 'App Store'\")\n",
    "        say(\"App Store closed\")\n",
    "\n",
    "    if \"close spotify\" in query:\n",
    "        os.system(\"pkill Spotify\")\n",
    "        say(\"Spotify closed\")\n",
    "\n",
    "    if \"close whatsapp\" in query:\n",
    "        os.system(\"pkill WhatsApp\")\n",
    "        say(\"WhatsApp closed\")\n",
    "\n",
    "    if \"close terminal\" in query:\n",
    "        os.system(\"pkill Terminal\")\n",
    "        say(\"Terminal closed\")\n",
    "\n",
    "    if \"close safari\" in query:\n",
    "        os.system(\"pkill Safari\")\n",
    "        say(\"Safari closed\")"
   ]
  }
 ],
 "metadata": {
  "kernelspec": {
   "display_name": "atharvakulkarni",
   "language": "python",
   "name": "python3"
  },
  "language_info": {
   "name": "python",
   "version": "3.9.6"
  }
 },
 "nbformat": 4,
 "nbformat_minor": 2
}
